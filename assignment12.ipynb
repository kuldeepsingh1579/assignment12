{
 "cells": [
  {
   "cell_type": "raw",
   "id": "2524f07d-cf94-4f4b-9bd7-4435d723d5ee",
   "metadata": {},
   "source": [
    "Question-No.1\n",
    "\n",
    "Exception--> In Python, an exception is an event that occurs during the execution of a program, which disrupts the normal flow of the program's instructions. When an exceptional situation arises, Python raises an exception, allowing you to handle the error gracefully instead of crashing the program.\n",
    "\n",
    "Syntex Error--> a syntax error is a type of error that occurs when the Python interpreter encounters code that violates the language's syntax rules. Syntax errors prevent the interpreter from parsing and executing the code successfully. These errors are typically detected during the compilation phase, before the program starts running\n",
    "\n",
    "Syntax error occurs when the interpreter shows invalid syntax on executing the Python code. A syntax error occurs due to missed reserved keywords, spaces, quotes placed improperly"
   ]
  },
  {
   "cell_type": "raw",
   "id": "75594652-663a-416a-bea3-2db068f82d99",
   "metadata": {},
   "source": [
    "Question-NO.2\n",
    "\n",
    "When an exception is not handled in Python, it results in the program terminating abruptly and displaying an error message called a traceback. The traceback provides information about the exception that occurred, including the type of exception, the line of code where it occurred, and the sequence of function calls leading up to the exception. Example-->"
   ]
  },
  {
   "cell_type": "code",
   "execution_count": 3,
   "id": "600e4236-c326-493f-8054-5ab68e36dac2",
   "metadata": {},
   "outputs": [
    {
     "name": "stdout",
     "output_type": "stream",
     "text": [
      "division by zero\n"
     ]
    }
   ],
   "source": [
    "try:\n",
    "    10/0\n",
    "except ZeroDivisionError as e:\n",
    "    print(e)\n"
   ]
  },
  {
   "cell_type": "raw",
   "id": "2eaa724c-f3f7-4402-9c8f-28fba83beb2f",
   "metadata": {},
   "source": [
    "Question-No.3\n",
    "\n",
    "In Python, you can handle and catch exceptions using the \"try-except\" statement. The 'try' block is used to enclose the code that might raise an exception, and the 'except' block is used to handle the exception if it occurs.\n",
    "Example-->"
   ]
  },
  {
   "cell_type": "code",
   "execution_count": 4,
   "id": "2a02b974-2206-4278-b31c-de951a9115fb",
   "metadata": {},
   "outputs": [],
   "source": [
    "def divide_numbers(a, b):\n",
    "    try:\n",
    "        result = a / b\n",
    "        print(\"Division result:\", result)\n",
    "    except ZeroDivisionError:\n",
    "        print(\"Error: Cannot divide by zero!\")\n",
    "\n"
   ]
  },
  {
   "cell_type": "code",
   "execution_count": 6,
   "id": "d0f9cd88-5d91-4924-897d-dc1f01a84044",
   "metadata": {},
   "outputs": [
    {
     "name": "stdout",
     "output_type": "stream",
     "text": [
      "Error: Cannot divide by zero!\n"
     ]
    }
   ],
   "source": [
    "divide_numbers(15,0)"
   ]
  },
  {
   "cell_type": "raw",
   "id": "525fa4a8-b3b5-484a-8dba-1610b3dbee65",
   "metadata": {},
   "source": [
    "Question-No.4\n",
    "\n",
    "try and else--> In Python, the try and else statements are used together to provide additional control flow when handling exceptions. The try block is used to enclose the code that might raise an exception, while the else block is executed only if no exception occurs within the try block. for eg-->"
   ]
  },
  {
   "cell_type": "code",
   "execution_count": 7,
   "id": "d9c3fd21-1833-47dc-b78c-444340ba481c",
   "metadata": {},
   "outputs": [],
   "source": [
    "def divide_numbers(a, b):\n",
    "    try:\n",
    "        result = a / b\n",
    "    except ZeroDivisionError:\n",
    "        print(\"Error: Cannot divide by zero!\")\n",
    "    else:\n",
    "        print(\"Division result:\", result)\n"
   ]
  },
  {
   "cell_type": "code",
   "execution_count": 8,
   "id": "b399b26c-1ca9-468a-9464-0427f98067ab",
   "metadata": {},
   "outputs": [
    {
     "name": "stdout",
     "output_type": "stream",
     "text": [
      "Division result: 5.0\n"
     ]
    }
   ],
   "source": [
    "divide_numbers(10,2)"
   ]
  },
  {
   "cell_type": "code",
   "execution_count": 9,
   "id": "033cc70e-429b-4efd-9891-d0c95aa99dff",
   "metadata": {},
   "outputs": [
    {
     "name": "stdout",
     "output_type": "stream",
     "text": [
      "Error: Cannot divide by zero!\n"
     ]
    }
   ],
   "source": [
    "divide_numbers(10,0)"
   ]
  },
  {
   "cell_type": "raw",
   "id": "92bae63f-bcf3-4ad6-82eb-613f25e717a8",
   "metadata": {},
   "source": [
    "finally block-->In Python, the finally statement is used to define a block of code that will be executed regardless of whether an exception occurs or not. This block of code is placed after the try and except blocks, and it is executed even if an exception is raised and caught by an except block. For eg-->"
   ]
  },
  {
   "cell_type": "code",
   "execution_count": 10,
   "id": "be8e329a-ded2-4313-ac75-9726b1edd6dc",
   "metadata": {},
   "outputs": [],
   "source": [
    "def divide_numbers(a, b):\n",
    "    try:\n",
    "        result = a / b\n",
    "        print(\"Division result:\", result)\n",
    "    except ZeroDivisionError:\n",
    "        print(\"Error: Cannot divide by zero!\")\n",
    "    finally:\n",
    "        print(\"Division operation completed.\")"
   ]
  },
  {
   "cell_type": "code",
   "execution_count": 12,
   "id": "f131fe6d-1d22-46ed-a241-aeb2ce75c557",
   "metadata": {},
   "outputs": [
    {
     "name": "stdout",
     "output_type": "stream",
     "text": [
      "Division result: 7.5\n",
      "Division operation completed.\n"
     ]
    }
   ],
   "source": [
    "divide_numbers(15,2)"
   ]
  },
  {
   "cell_type": "raw",
   "id": "4bffba44-9eda-4a6f-a6e2-eaca62ec43e0",
   "metadata": {},
   "source": [
    "raise block-->In Python, the raise statement is used to explicitly raise an exception during the execution of a program. It allows you to create and raise custom exceptions or propagate built-in exceptions to handle them at a higher level. for eg-"
   ]
  },
  {
   "cell_type": "code",
   "execution_count": 14,
   "id": "6831a4b3-9c0f-402c-b4cc-f9a90c43b9f4",
   "metadata": {},
   "outputs": [
    {
     "name": "stdin",
     "output_type": "stream",
     "text": [
      "Enter your age:  19\n"
     ]
    },
    {
     "name": "stdout",
     "output_type": "stream",
     "text": [
      "Access granted.\n"
     ]
    }
   ],
   "source": [
    "def validate_age(age):\n",
    "    if age < 0:\n",
    "        raise ValueError(\"Age cannot be negative.\")\n",
    "    elif age < 18:\n",
    "        raise ValueError(\"You must be at least 18 years old.\")\n",
    "\n",
    "try:\n",
    "    user_age = int(input(\"Enter your age: \"))\n",
    "    validate_age(user_age)\n",
    "    print(\"Access granted.\")\n",
    "except ValueError as e:\n",
    "    print(\"Invalid age:\",e)"
   ]
  },
  {
   "cell_type": "raw",
   "id": "f77b0d50-0a79-4a56-9b36-9d793d74fbcb",
   "metadata": {},
   "source": [
    "Question-No.5\n",
    "\n",
    "In Python, custom exceptions are user-defined exceptions that inherit from the base Exception class or its subclasses. They allow you to create your own exception types to handle specific errors or exceptional conditions in your code"
   ]
  },
  {
   "cell_type": "code",
   "execution_count": 15,
   "id": "fe11c9a1-069e-4bc8-a5f5-b38186708c46",
   "metadata": {},
   "outputs": [
    {
     "name": "stdout",
     "output_type": "stream",
     "text": [
      "Insufficient funds in the account.\n"
     ]
    }
   ],
   "source": [
    "class InsufficientFundsError(Exception):\n",
    "    \"\"\"Raised when an account has insufficient funds.\"\"\"\n",
    "    pass\n",
    "\n",
    "\n",
    "class BankAccount:\n",
    "    def __init__(self, balance):\n",
    "        self.balance = balance\n",
    "\n",
    "    def withdraw(self, amount):\n",
    "        if amount > self.balance:\n",
    "            raise InsufficientFundsError(\"Insufficient funds in the account.\")\n",
    "        else:\n",
    "            self.balance -= amount\n",
    "            print(\"Withdrawal successful.\")\n",
    "\n",
    "\n",
    "account = BankAccount(1000)\n",
    "\n",
    "try:\n",
    "    account.withdraw(1500)\n",
    "except InsufficientFundsError as e:\n",
    "    print(e)\n"
   ]
  },
  {
   "cell_type": "code",
   "execution_count": 4,
   "id": "50bdec4b-88cb-4622-8663-7a0e83212eca",
   "metadata": {},
   "outputs": [
    {
     "name": "stdout",
     "output_type": "stream",
     "text": [
      "zero division will occurs:  division with zero error will occurs\n"
     ]
    }
   ],
   "source": [
    "class custom_exception (Exception):\n",
    "    pass\n",
    "\n",
    "def divide (a,b):\n",
    "    if b==0:\n",
    "        raise custom_exception(\"division with zero error will occurs\")\n",
    "        \n",
    "    return a/b\n",
    "try:\n",
    "    result=divide(10,0)\n",
    "    print(result)\n",
    "except custom_exception as e:\n",
    "    print(\"zero division will occurs: \",e)"
   ]
  },
  {
   "cell_type": "code",
   "execution_count": null,
   "id": "b1620d14-21a6-4784-95ac-d83a57f181cd",
   "metadata": {},
   "outputs": [],
   "source": []
  }
 ],
 "metadata": {
  "kernelspec": {
   "display_name": "Python 3 (ipykernel)",
   "language": "python",
   "name": "python3"
  },
  "language_info": {
   "codemirror_mode": {
    "name": "ipython",
    "version": 3
   },
   "file_extension": ".py",
   "mimetype": "text/x-python",
   "name": "python",
   "nbconvert_exporter": "python",
   "pygments_lexer": "ipython3",
   "version": "3.10.8"
  }
 },
 "nbformat": 4,
 "nbformat_minor": 5
}
